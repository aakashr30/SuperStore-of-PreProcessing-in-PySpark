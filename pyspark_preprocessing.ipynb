{
  "nbformat": 4,
  "nbformat_minor": 0,
  "metadata": {
    "colab": {
      "name": "pyspark  preprocessing",
      "provenance": [],
      "collapsed_sections": [],
      "mount_file_id": "1DHsrC29EB3G1ZHxtUj1rPFDWYyezyvTF",
      "authorship_tag": "ABX9TyMY+/SJ73hUslLkGRqBr4ZY",
      "include_colab_link": true
    },
    "kernelspec": {
      "name": "python3",
      "display_name": "Python 3"
    },
    "language_info": {
      "name": "python"
    }
  },
  "cells": [
    {
      "cell_type": "markdown",
      "metadata": {
        "id": "view-in-github",
        "colab_type": "text"
      },
      "source": [
        "<a href=\"https://colab.research.google.com/github/aakashr30/SuperStore-of-PreProcessing-in-PySpark/blob/main/pyspark_preprocessing.ipynb\" target=\"_parent\"><img src=\"https://colab.research.google.com/assets/colab-badge.svg\" alt=\"Open In Colab\"/></a>"
      ]
    },
    {
      "cell_type": "code",
      "execution_count": null,
      "metadata": {
        "colab": {
          "base_uri": "https://localhost:8080/"
        },
        "id": "yOXLWGtcZw7W",
        "outputId": "b1f746da-a6d4-4532-9694-fa462c852572"
      },
      "outputs": [
        {
          "output_type": "stream",
          "name": "stdout",
          "text": [
            "Looking in indexes: https://pypi.org/simple, https://us-python.pkg.dev/colab-wheels/public/simple/\n",
            "Requirement already satisfied: pyspark in /usr/local/lib/python3.7/dist-packages (3.2.1)\n",
            "Requirement already satisfied: py4j==0.10.9.3 in /usr/local/lib/python3.7/dist-packages (from pyspark) (0.10.9.3)\n"
          ]
        }
      ],
      "source": [
        "!pip install pyspark"
      ]
    },
    {
      "cell_type": "code",
      "source": [
        "import pyspark"
      ],
      "metadata": {
        "id": "azHGZTIDlRpb"
      },
      "execution_count": null,
      "outputs": []
    },
    {
      "cell_type": "code",
      "source": [
        "from google.colab import drive\n",
        "drive.mount('/content/drive')"
      ],
      "metadata": {
        "colab": {
          "base_uri": "https://localhost:8080/"
        },
        "id": "N8stHqtAlxFx",
        "outputId": "d3bb6659-98a7-477a-c5a3-e72baf2c539a"
      },
      "execution_count": null,
      "outputs": [
        {
          "output_type": "stream",
          "name": "stdout",
          "text": [
            "Drive already mounted at /content/drive; to attempt to forcibly remount, call drive.mount(\"/content/drive\", force_remount=True).\n"
          ]
        }
      ]
    },
    {
      "cell_type": "code",
      "source": [
        "import pandas as pd"
      ],
      "metadata": {
        "id": "PgTxqvTqmAWV"
      },
      "execution_count": null,
      "outputs": []
    },
    {
      "cell_type": "code",
      "source": [
        "data=pd.read_csv('/content/drive/MyDrive/0 (1).MKCE/19.Spark/Sample - Superstore.csv')"
      ],
      "metadata": {
        "id": "MqkKwUQImOSg"
      },
      "execution_count": null,
      "outputs": []
    },
    {
      "cell_type": "code",
      "source": [
        "data"
      ],
      "metadata": {
        "colab": {
          "base_uri": "https://localhost:8080/",
          "height": 1000
        },
        "id": "Ke5dlSbVmfsh",
        "outputId": "5855bb1e-61a6-46bd-d7cf-cb75cef5ff8f"
      },
      "execution_count": null,
      "outputs": [
        {
          "output_type": "execute_result",
          "data": {
            "text/plain": [
              "      Row ID        Order ID Order Date Ship Date       Ship Mode Customer ID  \\\n",
              "0          1  CA-2020-152156   08-11-20  11-11-20    Second Class    CG-12520   \n",
              "1          2  CA-2020-152156   08-11-20  11-11-20    Second Class    CG-12520   \n",
              "2          3  CA-2020-138688   12-06-20  16-06-20    Second Class    DV-13045   \n",
              "3          4  US-2019-108966   11-10-19  18-10-19  Standard Class    SO-20335   \n",
              "4          5  US-2019-108966   11-10-19  18-10-19  Standard Class    SO-20335   \n",
              "...      ...             ...        ...       ...             ...         ...   \n",
              "9989    9990  CA-2018-110422   21-01-18  23-01-18    Second Class    TB-21400   \n",
              "9990    9991  CA-2021-121258   26-02-21  03-03-21  Standard Class    DB-13060   \n",
              "9991    9992  CA-2021-121258   26-02-21  03-03-21  Standard Class    DB-13060   \n",
              "9992    9993  CA-2021-121258   26-02-21  03-03-21  Standard Class    DB-13060   \n",
              "9993    9994  CA-2021-119914   04-05-21  09-05-21    Second Class    CC-12220   \n",
              "\n",
              "         Customer Name    Segment Country/Region             City  ...  \\\n",
              "0          Claire Gute   Consumer  United States        Henderson  ...   \n",
              "1          Claire Gute   Consumer  United States        Henderson  ...   \n",
              "2      Darrin Van Huff  Corporate  United States      Los Angeles  ...   \n",
              "3       Sean O'Donnell   Consumer  United States  Fort Lauderdale  ...   \n",
              "4       Sean O'Donnell   Consumer  United States  Fort Lauderdale  ...   \n",
              "...                ...        ...            ...              ...  ...   \n",
              "9989  Tom Boeckenhauer   Consumer  United States            Miami  ...   \n",
              "9990       Dave Brooks   Consumer  United States       Costa Mesa  ...   \n",
              "9991       Dave Brooks   Consumer  United States       Costa Mesa  ...   \n",
              "9992       Dave Brooks   Consumer  United States       Costa Mesa  ...   \n",
              "9993      Chris Cortes   Consumer  United States      Westminster  ...   \n",
              "\n",
              "     Postal Code  Region       Product ID         Category Sub-Category  \\\n",
              "0        42420.0   South  FUR-BO-10001798        Furniture    Bookcases   \n",
              "1        42420.0   South  FUR-CH-10000454        Furniture       Chairs   \n",
              "2        90036.0    West  OFF-LA-10000240  Office Supplies       Labels   \n",
              "3        33311.0   South  FUR-TA-10000577        Furniture       Tables   \n",
              "4        33311.0   South  OFF-ST-10000760  Office Supplies      Storage   \n",
              "...          ...     ...              ...              ...          ...   \n",
              "9989     33180.0   South  FUR-FU-10001889        Furniture  Furnishings   \n",
              "9990     92627.0    West  FUR-FU-10000747        Furniture  Furnishings   \n",
              "9991     92627.0    West  TEC-PH-10003645       Technology       Phones   \n",
              "9992     92627.0    West  OFF-PA-10004041  Office Supplies        Paper   \n",
              "9993     92683.0    West  OFF-AP-10002684  Office Supplies   Appliances   \n",
              "\n",
              "                                           Product Name     Sales  Quantity  \\\n",
              "0                     Bush Somerset Collection Bookcase  261.9600         2   \n",
              "1     Hon Deluxe Fabric Upholstered Stacking Chairs,...  731.9400         3   \n",
              "2     Self-Adhesive Address Labels for Typewriters b...   14.6200         2   \n",
              "3         Bretford CR4500 Series Slim Rectangular Table  957.5775         5   \n",
              "4                        Eldon Fold 'N Roll Cart System   22.3680         2   \n",
              "...                                                 ...       ...       ...   \n",
              "9989                             Ultra Door Pull Handle   25.2480         3   \n",
              "9990  Tenex B1-RE Series Chair Mats for Low Pile Car...   91.9600         2   \n",
              "9991                              Aastra 57i VoIP phone  258.5760         2   \n",
              "9992  It's Hot Message Books with Stickers, 2 3/4\" x 5\"   29.6000         4   \n",
              "9993  Acco 7-Outlet Masterpiece Power Center, Wihtou...  243.1600         2   \n",
              "\n",
              "      Discount    Profit  \n",
              "0         0.00   41.9136  \n",
              "1         0.00  219.5820  \n",
              "2         0.00    6.8714  \n",
              "3         0.45 -383.0310  \n",
              "4         0.20    2.5164  \n",
              "...        ...       ...  \n",
              "9989      0.20    4.1028  \n",
              "9990      0.00   15.6332  \n",
              "9991      0.20   19.3932  \n",
              "9992      0.00   13.3200  \n",
              "9993      0.00   72.9480  \n",
              "\n",
              "[9994 rows x 21 columns]"
            ],
            "text/html": [
              "\n",
              "  <div id=\"df-048fcc14-e536-4465-a225-83d853dab73b\">\n",
              "    <div class=\"colab-df-container\">\n",
              "      <div>\n",
              "<style scoped>\n",
              "    .dataframe tbody tr th:only-of-type {\n",
              "        vertical-align: middle;\n",
              "    }\n",
              "\n",
              "    .dataframe tbody tr th {\n",
              "        vertical-align: top;\n",
              "    }\n",
              "\n",
              "    .dataframe thead th {\n",
              "        text-align: right;\n",
              "    }\n",
              "</style>\n",
              "<table border=\"1\" class=\"dataframe\">\n",
              "  <thead>\n",
              "    <tr style=\"text-align: right;\">\n",
              "      <th></th>\n",
              "      <th>Row ID</th>\n",
              "      <th>Order ID</th>\n",
              "      <th>Order Date</th>\n",
              "      <th>Ship Date</th>\n",
              "      <th>Ship Mode</th>\n",
              "      <th>Customer ID</th>\n",
              "      <th>Customer Name</th>\n",
              "      <th>Segment</th>\n",
              "      <th>Country/Region</th>\n",
              "      <th>City</th>\n",
              "      <th>...</th>\n",
              "      <th>Postal Code</th>\n",
              "      <th>Region</th>\n",
              "      <th>Product ID</th>\n",
              "      <th>Category</th>\n",
              "      <th>Sub-Category</th>\n",
              "      <th>Product Name</th>\n",
              "      <th>Sales</th>\n",
              "      <th>Quantity</th>\n",
              "      <th>Discount</th>\n",
              "      <th>Profit</th>\n",
              "    </tr>\n",
              "  </thead>\n",
              "  <tbody>\n",
              "    <tr>\n",
              "      <th>0</th>\n",
              "      <td>1</td>\n",
              "      <td>CA-2020-152156</td>\n",
              "      <td>08-11-20</td>\n",
              "      <td>11-11-20</td>\n",
              "      <td>Second Class</td>\n",
              "      <td>CG-12520</td>\n",
              "      <td>Claire Gute</td>\n",
              "      <td>Consumer</td>\n",
              "      <td>United States</td>\n",
              "      <td>Henderson</td>\n",
              "      <td>...</td>\n",
              "      <td>42420.0</td>\n",
              "      <td>South</td>\n",
              "      <td>FUR-BO-10001798</td>\n",
              "      <td>Furniture</td>\n",
              "      <td>Bookcases</td>\n",
              "      <td>Bush Somerset Collection Bookcase</td>\n",
              "      <td>261.9600</td>\n",
              "      <td>2</td>\n",
              "      <td>0.00</td>\n",
              "      <td>41.9136</td>\n",
              "    </tr>\n",
              "    <tr>\n",
              "      <th>1</th>\n",
              "      <td>2</td>\n",
              "      <td>CA-2020-152156</td>\n",
              "      <td>08-11-20</td>\n",
              "      <td>11-11-20</td>\n",
              "      <td>Second Class</td>\n",
              "      <td>CG-12520</td>\n",
              "      <td>Claire Gute</td>\n",
              "      <td>Consumer</td>\n",
              "      <td>United States</td>\n",
              "      <td>Henderson</td>\n",
              "      <td>...</td>\n",
              "      <td>42420.0</td>\n",
              "      <td>South</td>\n",
              "      <td>FUR-CH-10000454</td>\n",
              "      <td>Furniture</td>\n",
              "      <td>Chairs</td>\n",
              "      <td>Hon Deluxe Fabric Upholstered Stacking Chairs,...</td>\n",
              "      <td>731.9400</td>\n",
              "      <td>3</td>\n",
              "      <td>0.00</td>\n",
              "      <td>219.5820</td>\n",
              "    </tr>\n",
              "    <tr>\n",
              "      <th>2</th>\n",
              "      <td>3</td>\n",
              "      <td>CA-2020-138688</td>\n",
              "      <td>12-06-20</td>\n",
              "      <td>16-06-20</td>\n",
              "      <td>Second Class</td>\n",
              "      <td>DV-13045</td>\n",
              "      <td>Darrin Van Huff</td>\n",
              "      <td>Corporate</td>\n",
              "      <td>United States</td>\n",
              "      <td>Los Angeles</td>\n",
              "      <td>...</td>\n",
              "      <td>90036.0</td>\n",
              "      <td>West</td>\n",
              "      <td>OFF-LA-10000240</td>\n",
              "      <td>Office Supplies</td>\n",
              "      <td>Labels</td>\n",
              "      <td>Self-Adhesive Address Labels for Typewriters b...</td>\n",
              "      <td>14.6200</td>\n",
              "      <td>2</td>\n",
              "      <td>0.00</td>\n",
              "      <td>6.8714</td>\n",
              "    </tr>\n",
              "    <tr>\n",
              "      <th>3</th>\n",
              "      <td>4</td>\n",
              "      <td>US-2019-108966</td>\n",
              "      <td>11-10-19</td>\n",
              "      <td>18-10-19</td>\n",
              "      <td>Standard Class</td>\n",
              "      <td>SO-20335</td>\n",
              "      <td>Sean O'Donnell</td>\n",
              "      <td>Consumer</td>\n",
              "      <td>United States</td>\n",
              "      <td>Fort Lauderdale</td>\n",
              "      <td>...</td>\n",
              "      <td>33311.0</td>\n",
              "      <td>South</td>\n",
              "      <td>FUR-TA-10000577</td>\n",
              "      <td>Furniture</td>\n",
              "      <td>Tables</td>\n",
              "      <td>Bretford CR4500 Series Slim Rectangular Table</td>\n",
              "      <td>957.5775</td>\n",
              "      <td>5</td>\n",
              "      <td>0.45</td>\n",
              "      <td>-383.0310</td>\n",
              "    </tr>\n",
              "    <tr>\n",
              "      <th>4</th>\n",
              "      <td>5</td>\n",
              "      <td>US-2019-108966</td>\n",
              "      <td>11-10-19</td>\n",
              "      <td>18-10-19</td>\n",
              "      <td>Standard Class</td>\n",
              "      <td>SO-20335</td>\n",
              "      <td>Sean O'Donnell</td>\n",
              "      <td>Consumer</td>\n",
              "      <td>United States</td>\n",
              "      <td>Fort Lauderdale</td>\n",
              "      <td>...</td>\n",
              "      <td>33311.0</td>\n",
              "      <td>South</td>\n",
              "      <td>OFF-ST-10000760</td>\n",
              "      <td>Office Supplies</td>\n",
              "      <td>Storage</td>\n",
              "      <td>Eldon Fold 'N Roll Cart System</td>\n",
              "      <td>22.3680</td>\n",
              "      <td>2</td>\n",
              "      <td>0.20</td>\n",
              "      <td>2.5164</td>\n",
              "    </tr>\n",
              "    <tr>\n",
              "      <th>...</th>\n",
              "      <td>...</td>\n",
              "      <td>...</td>\n",
              "      <td>...</td>\n",
              "      <td>...</td>\n",
              "      <td>...</td>\n",
              "      <td>...</td>\n",
              "      <td>...</td>\n",
              "      <td>...</td>\n",
              "      <td>...</td>\n",
              "      <td>...</td>\n",
              "      <td>...</td>\n",
              "      <td>...</td>\n",
              "      <td>...</td>\n",
              "      <td>...</td>\n",
              "      <td>...</td>\n",
              "      <td>...</td>\n",
              "      <td>...</td>\n",
              "      <td>...</td>\n",
              "      <td>...</td>\n",
              "      <td>...</td>\n",
              "      <td>...</td>\n",
              "    </tr>\n",
              "    <tr>\n",
              "      <th>9989</th>\n",
              "      <td>9990</td>\n",
              "      <td>CA-2018-110422</td>\n",
              "      <td>21-01-18</td>\n",
              "      <td>23-01-18</td>\n",
              "      <td>Second Class</td>\n",
              "      <td>TB-21400</td>\n",
              "      <td>Tom Boeckenhauer</td>\n",
              "      <td>Consumer</td>\n",
              "      <td>United States</td>\n",
              "      <td>Miami</td>\n",
              "      <td>...</td>\n",
              "      <td>33180.0</td>\n",
              "      <td>South</td>\n",
              "      <td>FUR-FU-10001889</td>\n",
              "      <td>Furniture</td>\n",
              "      <td>Furnishings</td>\n",
              "      <td>Ultra Door Pull Handle</td>\n",
              "      <td>25.2480</td>\n",
              "      <td>3</td>\n",
              "      <td>0.20</td>\n",
              "      <td>4.1028</td>\n",
              "    </tr>\n",
              "    <tr>\n",
              "      <th>9990</th>\n",
              "      <td>9991</td>\n",
              "      <td>CA-2021-121258</td>\n",
              "      <td>26-02-21</td>\n",
              "      <td>03-03-21</td>\n",
              "      <td>Standard Class</td>\n",
              "      <td>DB-13060</td>\n",
              "      <td>Dave Brooks</td>\n",
              "      <td>Consumer</td>\n",
              "      <td>United States</td>\n",
              "      <td>Costa Mesa</td>\n",
              "      <td>...</td>\n",
              "      <td>92627.0</td>\n",
              "      <td>West</td>\n",
              "      <td>FUR-FU-10000747</td>\n",
              "      <td>Furniture</td>\n",
              "      <td>Furnishings</td>\n",
              "      <td>Tenex B1-RE Series Chair Mats for Low Pile Car...</td>\n",
              "      <td>91.9600</td>\n",
              "      <td>2</td>\n",
              "      <td>0.00</td>\n",
              "      <td>15.6332</td>\n",
              "    </tr>\n",
              "    <tr>\n",
              "      <th>9991</th>\n",
              "      <td>9992</td>\n",
              "      <td>CA-2021-121258</td>\n",
              "      <td>26-02-21</td>\n",
              "      <td>03-03-21</td>\n",
              "      <td>Standard Class</td>\n",
              "      <td>DB-13060</td>\n",
              "      <td>Dave Brooks</td>\n",
              "      <td>Consumer</td>\n",
              "      <td>United States</td>\n",
              "      <td>Costa Mesa</td>\n",
              "      <td>...</td>\n",
              "      <td>92627.0</td>\n",
              "      <td>West</td>\n",
              "      <td>TEC-PH-10003645</td>\n",
              "      <td>Technology</td>\n",
              "      <td>Phones</td>\n",
              "      <td>Aastra 57i VoIP phone</td>\n",
              "      <td>258.5760</td>\n",
              "      <td>2</td>\n",
              "      <td>0.20</td>\n",
              "      <td>19.3932</td>\n",
              "    </tr>\n",
              "    <tr>\n",
              "      <th>9992</th>\n",
              "      <td>9993</td>\n",
              "      <td>CA-2021-121258</td>\n",
              "      <td>26-02-21</td>\n",
              "      <td>03-03-21</td>\n",
              "      <td>Standard Class</td>\n",
              "      <td>DB-13060</td>\n",
              "      <td>Dave Brooks</td>\n",
              "      <td>Consumer</td>\n",
              "      <td>United States</td>\n",
              "      <td>Costa Mesa</td>\n",
              "      <td>...</td>\n",
              "      <td>92627.0</td>\n",
              "      <td>West</td>\n",
              "      <td>OFF-PA-10004041</td>\n",
              "      <td>Office Supplies</td>\n",
              "      <td>Paper</td>\n",
              "      <td>It's Hot Message Books with Stickers, 2 3/4\" x 5\"</td>\n",
              "      <td>29.6000</td>\n",
              "      <td>4</td>\n",
              "      <td>0.00</td>\n",
              "      <td>13.3200</td>\n",
              "    </tr>\n",
              "    <tr>\n",
              "      <th>9993</th>\n",
              "      <td>9994</td>\n",
              "      <td>CA-2021-119914</td>\n",
              "      <td>04-05-21</td>\n",
              "      <td>09-05-21</td>\n",
              "      <td>Second Class</td>\n",
              "      <td>CC-12220</td>\n",
              "      <td>Chris Cortes</td>\n",
              "      <td>Consumer</td>\n",
              "      <td>United States</td>\n",
              "      <td>Westminster</td>\n",
              "      <td>...</td>\n",
              "      <td>92683.0</td>\n",
              "      <td>West</td>\n",
              "      <td>OFF-AP-10002684</td>\n",
              "      <td>Office Supplies</td>\n",
              "      <td>Appliances</td>\n",
              "      <td>Acco 7-Outlet Masterpiece Power Center, Wihtou...</td>\n",
              "      <td>243.1600</td>\n",
              "      <td>2</td>\n",
              "      <td>0.00</td>\n",
              "      <td>72.9480</td>\n",
              "    </tr>\n",
              "  </tbody>\n",
              "</table>\n",
              "<p>9994 rows × 21 columns</p>\n",
              "</div>\n",
              "      <button class=\"colab-df-convert\" onclick=\"convertToInteractive('df-048fcc14-e536-4465-a225-83d853dab73b')\"\n",
              "              title=\"Convert this dataframe to an interactive table.\"\n",
              "              style=\"display:none;\">\n",
              "        \n",
              "  <svg xmlns=\"http://www.w3.org/2000/svg\" height=\"24px\"viewBox=\"0 0 24 24\"\n",
              "       width=\"24px\">\n",
              "    <path d=\"M0 0h24v24H0V0z\" fill=\"none\"/>\n",
              "    <path d=\"M18.56 5.44l.94 2.06.94-2.06 2.06-.94-2.06-.94-.94-2.06-.94 2.06-2.06.94zm-11 1L8.5 8.5l.94-2.06 2.06-.94-2.06-.94L8.5 2.5l-.94 2.06-2.06.94zm10 10l.94 2.06.94-2.06 2.06-.94-2.06-.94-.94-2.06-.94 2.06-2.06.94z\"/><path d=\"M17.41 7.96l-1.37-1.37c-.4-.4-.92-.59-1.43-.59-.52 0-1.04.2-1.43.59L10.3 9.45l-7.72 7.72c-.78.78-.78 2.05 0 2.83L4 21.41c.39.39.9.59 1.41.59.51 0 1.02-.2 1.41-.59l7.78-7.78 2.81-2.81c.8-.78.8-2.07 0-2.86zM5.41 20L4 18.59l7.72-7.72 1.47 1.35L5.41 20z\"/>\n",
              "  </svg>\n",
              "      </button>\n",
              "      \n",
              "  <style>\n",
              "    .colab-df-container {\n",
              "      display:flex;\n",
              "      flex-wrap:wrap;\n",
              "      gap: 12px;\n",
              "    }\n",
              "\n",
              "    .colab-df-convert {\n",
              "      background-color: #E8F0FE;\n",
              "      border: none;\n",
              "      border-radius: 50%;\n",
              "      cursor: pointer;\n",
              "      display: none;\n",
              "      fill: #1967D2;\n",
              "      height: 32px;\n",
              "      padding: 0 0 0 0;\n",
              "      width: 32px;\n",
              "    }\n",
              "\n",
              "    .colab-df-convert:hover {\n",
              "      background-color: #E2EBFA;\n",
              "      box-shadow: 0px 1px 2px rgba(60, 64, 67, 0.3), 0px 1px 3px 1px rgba(60, 64, 67, 0.15);\n",
              "      fill: #174EA6;\n",
              "    }\n",
              "\n",
              "    [theme=dark] .colab-df-convert {\n",
              "      background-color: #3B4455;\n",
              "      fill: #D2E3FC;\n",
              "    }\n",
              "\n",
              "    [theme=dark] .colab-df-convert:hover {\n",
              "      background-color: #434B5C;\n",
              "      box-shadow: 0px 1px 3px 1px rgba(0, 0, 0, 0.15);\n",
              "      filter: drop-shadow(0px 1px 2px rgba(0, 0, 0, 0.3));\n",
              "      fill: #FFFFFF;\n",
              "    }\n",
              "  </style>\n",
              "\n",
              "      <script>\n",
              "        const buttonEl =\n",
              "          document.querySelector('#df-048fcc14-e536-4465-a225-83d853dab73b button.colab-df-convert');\n",
              "        buttonEl.style.display =\n",
              "          google.colab.kernel.accessAllowed ? 'block' : 'none';\n",
              "\n",
              "        async function convertToInteractive(key) {\n",
              "          const element = document.querySelector('#df-048fcc14-e536-4465-a225-83d853dab73b');\n",
              "          const dataTable =\n",
              "            await google.colab.kernel.invokeFunction('convertToInteractive',\n",
              "                                                     [key], {});\n",
              "          if (!dataTable) return;\n",
              "\n",
              "          const docLinkHtml = 'Like what you see? Visit the ' +\n",
              "            '<a target=\"_blank\" href=https://colab.research.google.com/notebooks/data_table.ipynb>data table notebook</a>'\n",
              "            + ' to learn more about interactive tables.';\n",
              "          element.innerHTML = '';\n",
              "          dataTable['output_type'] = 'display_data';\n",
              "          await google.colab.output.renderOutput(dataTable, element);\n",
              "          const docLink = document.createElement('div');\n",
              "          docLink.innerHTML = docLinkHtml;\n",
              "          element.appendChild(docLink);\n",
              "        }\n",
              "      </script>\n",
              "    </div>\n",
              "  </div>\n",
              "  "
            ]
          },
          "metadata": {},
          "execution_count": 42
        }
      ]
    },
    {
      "cell_type": "code",
      "source": [
        "from pyspark.sql import SparkSession"
      ],
      "metadata": {
        "id": "6eaCNuNUmg6-"
      },
      "execution_count": null,
      "outputs": []
    },
    {
      "cell_type": "code",
      "source": [
        "spark = SparkSession.builder.appName('Sample-Superstore').getOrCreate()"
      ],
      "metadata": {
        "id": "oNoTkPQGn4U3"
      },
      "execution_count": null,
      "outputs": []
    },
    {
      "cell_type": "code",
      "source": [
        "spark"
      ],
      "metadata": {
        "colab": {
          "base_uri": "https://localhost:8080/",
          "height": 219
        },
        "id": "cQHxu_xWoOl2",
        "outputId": "0fe69a5f-34c7-41cc-f559-70ff77f0f53c"
      },
      "execution_count": null,
      "outputs": [
        {
          "output_type": "execute_result",
          "data": {
            "text/plain": [
              "<pyspark.sql.session.SparkSession at 0x7fe50a8a01d0>"
            ],
            "text/html": [
              "\n",
              "            <div>\n",
              "                <p><b>SparkSession - in-memory</b></p>\n",
              "                \n",
              "        <div>\n",
              "            <p><b>SparkContext</b></p>\n",
              "\n",
              "            <p><a href=\"http://4e20420b1ed7:4040\">Spark UI</a></p>\n",
              "\n",
              "            <dl>\n",
              "              <dt>Version</dt>\n",
              "                <dd><code>v3.2.1</code></dd>\n",
              "              <dt>Master</dt>\n",
              "                <dd><code>local[*]</code></dd>\n",
              "              <dt>AppName</dt>\n",
              "                <dd><code>Sample-Superstore</code></dd>\n",
              "            </dl>\n",
              "        </div>\n",
              "        \n",
              "            </div>\n",
              "        "
            ]
          },
          "metadata": {},
          "execution_count": 45
        }
      ]
    },
    {
      "cell_type": "code",
      "source": [
        "data_pyspark = spark.read.option('header','true').csv('/content/drive/MyDrive/0 (1).MKCE/19.Spark/Sample - Superstore.csv',inferSchema=True)"
      ],
      "metadata": {
        "id": "sfqjC-OYnmjY"
      },
      "execution_count": null,
      "outputs": []
    },
    {
      "cell_type": "code",
      "source": [
        "data_pyspark"
      ],
      "metadata": {
        "colab": {
          "base_uri": "https://localhost:8080/"
        },
        "id": "beCMjRZZou7S",
        "outputId": "cd44b450-ac01-409b-ada6-7833697d3fa1"
      },
      "execution_count": null,
      "outputs": [
        {
          "output_type": "execute_result",
          "data": {
            "text/plain": [
              "DataFrame[Row ID: string, Order ID: string, Order Date: string, Ship Date: string, Ship Mode: string, Customer ID: string, Customer Name: string, Segment: string, Country/Region: string, City: string, State: string, Postal Code: string, Region: string, Product ID: string, Category: string, Sub-Category: string, Product Name: string, Sales: string, Quantity: string, Discount: string, Profit: string]"
            ]
          },
          "metadata": {},
          "execution_count": 47
        }
      ]
    },
    {
      "cell_type": "markdown",
      "source": [
        "**Adding columns in dataframe**"
      ],
      "metadata": {
        "id": "1SY3fn9ow5_6"
      }
    },
    {
      "cell_type": "code",
      "source": [
        "data_pyspark1 = data_pyspark.withColumn('Profit %',data_pyspark['Profit']/data_pyspark['Sales']*100)"
      ],
      "metadata": {
        "id": "pU6wPEWaxCU9"
      },
      "execution_count": null,
      "outputs": []
    },
    {
      "cell_type": "code",
      "source": [
        "data_pyspark1.show()"
      ],
      "metadata": {
        "colab": {
          "base_uri": "https://localhost:8080/"
        },
        "id": "klG1_kVb1xMd",
        "outputId": "af6f55b9-736f-425e-b0d7-0b7cc93aaef0"
      },
      "execution_count": null,
      "outputs": [
        {
          "output_type": "stream",
          "name": "stdout",
          "text": [
            "+------+--------------+----------+---------+--------------+-----------+------------------+-----------+--------------+---------------+--------------+-----------+-------+---------------+---------------+------------+--------------------+--------+--------+--------+--------+------------------+\n",
            "|Row ID|      Order ID|Order Date|Ship Date|     Ship Mode|Customer ID|     Customer Name|    Segment|Country/Region|           City|         State|Postal Code| Region|     Product ID|       Category|Sub-Category|        Product Name|   Sales|Quantity|Discount|  Profit|          Profit %|\n",
            "+------+--------------+----------+---------+--------------+-----------+------------------+-----------+--------------+---------------+--------------+-----------+-------+---------------+---------------+------------+--------------------+--------+--------+--------+--------+------------------+\n",
            "|     1|CA-2020-152156|  08-11-20| 11-11-20|  Second Class|   CG-12520|       Claire Gute|   Consumer| United States|      Henderson|      Kentucky|      42420|  South|FUR-BO-10001798|      Furniture|   Bookcases|Bush Somerset Col...|  261.96|       2|       0| 41.9136|16.000000000000004|\n",
            "|     2|CA-2020-152156|  08-11-20| 11-11-20|  Second Class|   CG-12520|       Claire Gute|   Consumer| United States|      Henderson|      Kentucky|      42420|  South|FUR-CH-10000454|      Furniture|      Chairs|Hon Deluxe Fabric...|  731.94|       3|       0| 219.582|              30.0|\n",
            "|     3|CA-2020-138688|  12-06-20| 16-06-20|  Second Class|   DV-13045|   Darrin Van Huff|  Corporate| United States|    Los Angeles|    California|      90036|   West|OFF-LA-10000240|Office Supplies|      Labels|Self-Adhesive Add...|   14.62|       2|       0|  6.8714|              47.0|\n",
            "|     4|US-2019-108966|  11-10-19| 18-10-19|Standard Class|   SO-20335|    Sean O'Donnell|   Consumer| United States|Fort Lauderdale|       Florida|      33311|  South|FUR-TA-10000577|      Furniture|      Tables|Bretford CR4500 S...|957.5775|       5|    0.45|-383.031|             -40.0|\n",
            "|     5|US-2019-108966|  11-10-19| 18-10-19|Standard Class|   SO-20335|    Sean O'Donnell|   Consumer| United States|Fort Lauderdale|       Florida|      33311|  South|OFF-ST-10000760|Office Supplies|     Storage|Eldon Fold 'N Rol...|  22.368|       2|     0.2|  2.5164|             11.25|\n",
            "|     6|CA-2018-115812|  09-06-18| 14-06-18|Standard Class|   BH-11710|   Brosina Hoffman|   Consumer| United States|    Los Angeles|    California|      90032|   West|FUR-FU-10001487|      Furniture| Furnishings|Eldon Expressions...|   48.86|       7|       0| 14.1694|28.999999999999996|\n",
            "|     7|CA-2018-115812|  09-06-18| 14-06-18|Standard Class|   BH-11710|   Brosina Hoffman|   Consumer| United States|    Los Angeles|    California|      90032|   West|OFF-AR-10002833|Office Supplies|         Art|          Newell 322|    7.28|       4|       0|  1.9656|              27.0|\n",
            "|     8|CA-2018-115812|  09-06-18| 14-06-18|Standard Class|   BH-11710|   Brosina Hoffman|   Consumer| United States|    Los Angeles|    California|      90032|   West|TEC-PH-10002275|     Technology|      Phones|Mitel 5320 IP Pho...| 907.152|       6|     0.2| 90.7152|              10.0|\n",
            "|     9|CA-2018-115812|  09-06-18| 14-06-18|Standard Class|   BH-11710|   Brosina Hoffman|   Consumer| United States|    Los Angeles|    California|      90032|   West|OFF-BI-10003910|Office Supplies|     Binders|DXL Angle-View Bi...|  18.504|       3|     0.2|  5.7825|31.249999999999993|\n",
            "|    10|CA-2018-115812|  09-06-18| 14-06-18|Standard Class|   BH-11710|   Brosina Hoffman|   Consumer| United States|    Los Angeles|    California|      90032|   West|OFF-AP-10002892|Office Supplies|  Appliances|Belkin F5C206VTEL...|   114.9|       5|       0|   34.47|              30.0|\n",
            "|    11|CA-2018-115812|  09-06-18| 14-06-18|Standard Class|   BH-11710|   Brosina Hoffman|   Consumer| United States|    Los Angeles|    California|      90032|   West|FUR-TA-10001539|      Furniture|      Tables|Chromcraft Rectan...|1706.184|       9|     0.2| 85.3092|               5.0|\n",
            "|    12|CA-2018-115812|  09-06-18| 14-06-18|Standard Class|   BH-11710|   Brosina Hoffman|   Consumer| United States|    Los Angeles|    California|      90032|   West|TEC-PH-10002033|     Technology|      Phones|Konftel 250 Confe...| 911.424|       4|     0.2| 68.3568| 7.500000000000001|\n",
            "|    13|CA-2021-114412|  15-04-21| 20-04-21|Standard Class|   AA-10480|      Andrew Allen|   Consumer| United States|        Concord|North Carolina|      28027|  South|OFF-PA-10002365|Office Supplies|       Paper|          Xerox 1967|  15.552|       3|     0.2|  5.4432|              35.0|\n",
            "|    14|CA-2020-161389|  05-12-20| 10-12-20|Standard Class|   IM-15070|      Irene Maddox|   Consumer| United States|        Seattle|    Washington|      98103|   West|OFF-BI-10003656|Office Supplies|     Binders|Fellowes PB200 Pl...| 407.976|       3|     0.2|132.5922| 32.49999999999999|\n",
            "|    15|US-2019-118983|  22-11-19| 26-11-19|Standard Class|   HP-14815|     Harold Pawlan|Home Office| United States|     Fort Worth|         Texas|      76106|Central|OFF-AP-10002311|Office Supplies|  Appliances|Holmes Replacemen...|   68.81|       5|     0.8|-123.858|            -180.0|\n",
            "|    16|US-2019-118983|  22-11-19| 26-11-19|Standard Class|   HP-14815|     Harold Pawlan|Home Office| United States|     Fort Worth|         Texas|      76106|Central|OFF-BI-10000756|Office Supplies|     Binders|Storex DuraTech R...|   2.544|       3|     0.8|  -3.816|            -150.0|\n",
            "|    17|CA-2018-105893|  11-11-18| 18-11-18|Standard Class|   PK-19075|         Pete Kriz|   Consumer| United States|        Madison|     Wisconsin|      53711|Central|OFF-ST-10004186|Office Supplies|     Storage|\"Stur-D-Stor Shel...|  665.88|       6|       0| 13.3176|               2.0|\n",
            "|    18|CA-2018-167164|  13-05-18| 15-05-18|  Second Class|   AG-10270|   Alejandro Grove|   Consumer| United States|    West Jordan|          Utah|      84084|   West|OFF-ST-10000107|Office Supplies|     Storage|Fellowes Super St...|    55.5|       2|       0|    9.99|              18.0|\n",
            "|    19|CA-2018-143336|  27-08-18| 01-09-18|  Second Class|   ZD-21925|Zuschuss Donatelli|   Consumer| United States|  San Francisco|    California|      94109|   West|OFF-AR-10003056|Office Supplies|         Art|          Newell 341|    8.56|       2|       0|  2.4824|28.999999999999996|\n",
            "|    20|CA-2018-143336|  27-08-18| 01-09-18|  Second Class|   ZD-21925|Zuschuss Donatelli|   Consumer| United States|  San Francisco|    California|      94109|   West|TEC-PH-10001949|     Technology|      Phones|Cisco SPA 501G IP...|  213.48|       3|     0.2|  16.011|               7.5|\n",
            "+------+--------------+----------+---------+--------------+-----------+------------------+-----------+--------------+---------------+--------------+-----------+-------+---------------+---------------+------------+--------------------+--------+--------+--------+--------+------------------+\n",
            "only showing top 20 rows\n",
            "\n"
          ]
        }
      ]
    },
    {
      "cell_type": "code",
      "source": [
        "type(data_pyspark1)"
      ],
      "metadata": {
        "colab": {
          "base_uri": "https://localhost:8080/"
        },
        "id": "oCEVF7DWozLh",
        "outputId": "b752b7b7-7dd3-4f43-d9f5-6598743255a8"
      },
      "execution_count": null,
      "outputs": [
        {
          "output_type": "execute_result",
          "data": {
            "text/plain": [
              "pyspark.sql.dataframe.DataFrame"
            ]
          },
          "metadata": {},
          "execution_count": 66
        }
      ]
    },
    {
      "cell_type": "code",
      "source": [
        "data_pyspark.dtypes"
      ],
      "metadata": {
        "colab": {
          "base_uri": "https://localhost:8080/"
        },
        "id": "fQIwRdB_1_sm",
        "outputId": "69238cbd-db70-4033-c950-ec854eb39b15"
      },
      "execution_count": null,
      "outputs": [
        {
          "output_type": "execute_result",
          "data": {
            "text/plain": [
              "[('Row ID', 'int'),\n",
              " ('Order ID', 'string'),\n",
              " ('Order Date', 'string'),\n",
              " ('Ship Date', 'string'),\n",
              " ('Ship Mode', 'string'),\n",
              " ('Customer ID', 'string'),\n",
              " ('Customer Name', 'string'),\n",
              " ('Segment', 'string'),\n",
              " ('Country/Region', 'string'),\n",
              " ('City', 'string'),\n",
              " ('State', 'string'),\n",
              " ('Postal Code', 'int'),\n",
              " ('Region', 'string'),\n",
              " ('Product ID', 'string'),\n",
              " ('Category', 'string'),\n",
              " ('Sub-Category', 'string'),\n",
              " ('Product Name', 'string'),\n",
              " ('Sales', 'string'),\n",
              " ('Quantity', 'string'),\n",
              " ('Discount', 'string'),\n",
              " ('Profit', 'double')]"
            ]
          },
          "metadata": {},
          "execution_count": 67
        }
      ]
    },
    {
      "cell_type": "code",
      "source": [
        "data_pyspark1.printSchema()"
      ],
      "metadata": {
        "colab": {
          "base_uri": "https://localhost:8080/"
        },
        "id": "Xhwg5L4To2Qd",
        "outputId": "a2ddc164-9d25-4104-a174-2d293cabe992"
      },
      "execution_count": null,
      "outputs": [
        {
          "output_type": "stream",
          "name": "stdout",
          "text": [
            "root\n",
            " |-- Row ID: integer (nullable = true)\n",
            " |-- Order ID: string (nullable = true)\n",
            " |-- Order Date: string (nullable = true)\n",
            " |-- Ship Date: string (nullable = true)\n",
            " |-- Ship Mode: string (nullable = true)\n",
            " |-- Customer ID: string (nullable = true)\n",
            " |-- Customer Name: string (nullable = true)\n",
            " |-- Segment: string (nullable = true)\n",
            " |-- Country/Region: string (nullable = true)\n",
            " |-- City: string (nullable = true)\n",
            " |-- State: string (nullable = true)\n",
            " |-- Postal Code: integer (nullable = true)\n",
            " |-- Region: string (nullable = true)\n",
            " |-- Product ID: string (nullable = true)\n",
            " |-- Category: string (nullable = true)\n",
            " |-- Sub-Category: string (nullable = true)\n",
            " |-- Product Name: string (nullable = true)\n",
            " |-- Sales: string (nullable = true)\n",
            " |-- Quantity: string (nullable = true)\n",
            " |-- Discount: string (nullable = true)\n",
            " |-- Profit: double (nullable = true)\n",
            " |-- Profit %: double (nullable = true)\n",
            "\n"
          ]
        }
      ]
    },
    {
      "cell_type": "code",
      "source": [
        "data_pyspark1.show(3)"
      ],
      "metadata": {
        "colab": {
          "base_uri": "https://localhost:8080/"
        },
        "id": "a2vBsko3rQra",
        "outputId": "9fb63b9d-c9aa-4e4b-fbdb-795436b4951e"
      },
      "execution_count": null,
      "outputs": [
        {
          "output_type": "stream",
          "name": "stdout",
          "text": [
            "+------+--------------+----------+---------+------------+-----------+---------------+---------+--------------+-----------+----------+-----------+------+---------------+---------------+------------+--------------------+------+--------+--------+-------+------------------+\n",
            "|Row ID|      Order ID|Order Date|Ship Date|   Ship Mode|Customer ID|  Customer Name|  Segment|Country/Region|       City|     State|Postal Code|Region|     Product ID|       Category|Sub-Category|        Product Name| Sales|Quantity|Discount| Profit|          Profit %|\n",
            "+------+--------------+----------+---------+------------+-----------+---------------+---------+--------------+-----------+----------+-----------+------+---------------+---------------+------------+--------------------+------+--------+--------+-------+------------------+\n",
            "|     1|CA-2020-152156|  08-11-20| 11-11-20|Second Class|   CG-12520|    Claire Gute| Consumer| United States|  Henderson|  Kentucky|      42420| South|FUR-BO-10001798|      Furniture|   Bookcases|Bush Somerset Col...|261.96|       2|       0|41.9136|16.000000000000004|\n",
            "|     2|CA-2020-152156|  08-11-20| 11-11-20|Second Class|   CG-12520|    Claire Gute| Consumer| United States|  Henderson|  Kentucky|      42420| South|FUR-CH-10000454|      Furniture|      Chairs|Hon Deluxe Fabric...|731.94|       3|       0|219.582|              30.0|\n",
            "|     3|CA-2020-138688|  12-06-20| 16-06-20|Second Class|   DV-13045|Darrin Van Huff|Corporate| United States|Los Angeles|California|      90036|  West|OFF-LA-10000240|Office Supplies|      Labels|Self-Adhesive Add...| 14.62|       2|       0| 6.8714|              47.0|\n",
            "+------+--------------+----------+---------+------------+-----------+---------------+---------+--------------+-----------+----------+-----------+------+---------------+---------------+------------+--------------------+------+--------+--------+-------+------------------+\n",
            "only showing top 3 rows\n",
            "\n"
          ]
        }
      ]
    },
    {
      "cell_type": "code",
      "source": [
        "data_pyspark.select(['Customer Name','Sales','Profit']).show()"
      ],
      "metadata": {
        "colab": {
          "base_uri": "https://localhost:8080/"
        },
        "id": "Li8CYy_1zzjO",
        "outputId": "bf4fe042-d4c2-413e-d48f-d1b560b43e09"
      },
      "execution_count": null,
      "outputs": [
        {
          "output_type": "stream",
          "name": "stdout",
          "text": [
            "+------------------+--------+--------+\n",
            "|     Customer Name|   Sales|  Profit|\n",
            "+------------------+--------+--------+\n",
            "|       Claire Gute|  261.96| 41.9136|\n",
            "|       Claire Gute|  731.94| 219.582|\n",
            "|   Darrin Van Huff|   14.62|  6.8714|\n",
            "|    Sean O'Donnell|957.5775|-383.031|\n",
            "|    Sean O'Donnell|  22.368|  2.5164|\n",
            "|   Brosina Hoffman|   48.86| 14.1694|\n",
            "|   Brosina Hoffman|    7.28|  1.9656|\n",
            "|   Brosina Hoffman| 907.152| 90.7152|\n",
            "|   Brosina Hoffman|  18.504|  5.7825|\n",
            "|   Brosina Hoffman|   114.9|   34.47|\n",
            "|   Brosina Hoffman|1706.184| 85.3092|\n",
            "|   Brosina Hoffman| 911.424| 68.3568|\n",
            "|      Andrew Allen|  15.552|  5.4432|\n",
            "|      Irene Maddox| 407.976|132.5922|\n",
            "|     Harold Pawlan|   68.81|-123.858|\n",
            "|     Harold Pawlan|   2.544|  -3.816|\n",
            "|         Pete Kriz|  665.88| 13.3176|\n",
            "|   Alejandro Grove|    55.5|    9.99|\n",
            "|Zuschuss Donatelli|    8.56|  2.4824|\n",
            "|Zuschuss Donatelli|  213.48|  16.011|\n",
            "+------------------+--------+--------+\n",
            "only showing top 20 rows\n",
            "\n"
          ]
        }
      ]
    },
    {
      "cell_type": "code",
      "source": [
        "#drop column the datafram the values\n",
        "data_pyspark1.drop('Profit %')\n"
      ],
      "metadata": {
        "colab": {
          "base_uri": "https://localhost:8080/"
        },
        "id": "xN8wSzFl1Cty",
        "outputId": "95221e11-8ebf-4d75-d46d-88395e867e6d"
      },
      "execution_count": null,
      "outputs": [
        {
          "output_type": "execute_result",
          "data": {
            "text/plain": [
              "DataFrame[Row ID: int, Order ID: string, Order Date: string, Ship Date: string, Ship Mode: string, Customer ID: string, Customer Name: string, Segment: string, Country/Region: string, City: string, State: string, Postal Code: int, Region: string, Product ID: string, Category: string, Sub-Category: string, Product Name: string, Sales: string, Quantity: string, Discount: string, Profit: double]"
            ]
          },
          "metadata": {},
          "execution_count": 71
        }
      ]
    },
    {
      "cell_type": "code",
      "source": [
        "data_pyspark.show(10)"
      ],
      "metadata": {
        "colab": {
          "base_uri": "https://localhost:8080/"
        },
        "id": "VV3POClP2j8u",
        "outputId": "d4653c7f-697a-4353-c75e-ca0c886733c6"
      },
      "execution_count": null,
      "outputs": [
        {
          "output_type": "stream",
          "name": "stdout",
          "text": [
            "+------+--------------+----------+---------+--------------+-----------+---------------+---------+--------------+---------------+----------+-----------+------+---------------+---------------+------------+--------------------+--------+--------+--------+--------+\n",
            "|Row ID|      Order ID|Order Date|Ship Date|     Ship Mode|Customer ID|  Customer Name|  Segment|Country/Region|           City|     State|Postal Code|Region|     Product ID|       Category|Sub-Category|        Product Name|   Sales|Quantity|Discount|  Profit|\n",
            "+------+--------------+----------+---------+--------------+-----------+---------------+---------+--------------+---------------+----------+-----------+------+---------------+---------------+------------+--------------------+--------+--------+--------+--------+\n",
            "|     1|CA-2020-152156|  08-11-20| 11-11-20|  Second Class|   CG-12520|    Claire Gute| Consumer| United States|      Henderson|  Kentucky|      42420| South|FUR-BO-10001798|      Furniture|   Bookcases|Bush Somerset Col...|  261.96|       2|       0| 41.9136|\n",
            "|     2|CA-2020-152156|  08-11-20| 11-11-20|  Second Class|   CG-12520|    Claire Gute| Consumer| United States|      Henderson|  Kentucky|      42420| South|FUR-CH-10000454|      Furniture|      Chairs|Hon Deluxe Fabric...|  731.94|       3|       0| 219.582|\n",
            "|     3|CA-2020-138688|  12-06-20| 16-06-20|  Second Class|   DV-13045|Darrin Van Huff|Corporate| United States|    Los Angeles|California|      90036|  West|OFF-LA-10000240|Office Supplies|      Labels|Self-Adhesive Add...|   14.62|       2|       0|  6.8714|\n",
            "|     4|US-2019-108966|  11-10-19| 18-10-19|Standard Class|   SO-20335| Sean O'Donnell| Consumer| United States|Fort Lauderdale|   Florida|      33311| South|FUR-TA-10000577|      Furniture|      Tables|Bretford CR4500 S...|957.5775|       5|    0.45|-383.031|\n",
            "|     5|US-2019-108966|  11-10-19| 18-10-19|Standard Class|   SO-20335| Sean O'Donnell| Consumer| United States|Fort Lauderdale|   Florida|      33311| South|OFF-ST-10000760|Office Supplies|     Storage|Eldon Fold 'N Rol...|  22.368|       2|     0.2|  2.5164|\n",
            "|     6|CA-2018-115812|  09-06-18| 14-06-18|Standard Class|   BH-11710|Brosina Hoffman| Consumer| United States|    Los Angeles|California|      90032|  West|FUR-FU-10001487|      Furniture| Furnishings|Eldon Expressions...|   48.86|       7|       0| 14.1694|\n",
            "|     7|CA-2018-115812|  09-06-18| 14-06-18|Standard Class|   BH-11710|Brosina Hoffman| Consumer| United States|    Los Angeles|California|      90032|  West|OFF-AR-10002833|Office Supplies|         Art|          Newell 322|    7.28|       4|       0|  1.9656|\n",
            "|     8|CA-2018-115812|  09-06-18| 14-06-18|Standard Class|   BH-11710|Brosina Hoffman| Consumer| United States|    Los Angeles|California|      90032|  West|TEC-PH-10002275|     Technology|      Phones|Mitel 5320 IP Pho...| 907.152|       6|     0.2| 90.7152|\n",
            "|     9|CA-2018-115812|  09-06-18| 14-06-18|Standard Class|   BH-11710|Brosina Hoffman| Consumer| United States|    Los Angeles|California|      90032|  West|OFF-BI-10003910|Office Supplies|     Binders|DXL Angle-View Bi...|  18.504|       3|     0.2|  5.7825|\n",
            "|    10|CA-2018-115812|  09-06-18| 14-06-18|Standard Class|   BH-11710|Brosina Hoffman| Consumer| United States|    Los Angeles|California|      90032|  West|OFF-AP-10002892|Office Supplies|  Appliances|Belkin F5C206VTEL...|   114.9|       5|       0|   34.47|\n",
            "+------+--------------+----------+---------+--------------+-----------+---------------+---------+--------------+---------------+----------+-----------+------+---------------+---------------+------------+--------------------+--------+--------+--------+--------+\n",
            "only showing top 10 rows\n",
            "\n"
          ]
        }
      ]
    },
    {
      "cell_type": "code",
      "source": [
        "data_pyspark1.select(['Ship Date']).show()\n"
      ],
      "metadata": {
        "colab": {
          "base_uri": "https://localhost:8080/"
        },
        "id": "graawSLE2ttC",
        "outputId": "3a486c64-d1fe-4830-d070-e288bd9dbaa9"
      },
      "execution_count": null,
      "outputs": [
        {
          "output_type": "stream",
          "name": "stdout",
          "text": [
            "+---------+\n",
            "|Ship Date|\n",
            "+---------+\n",
            "| 11-11-20|\n",
            "| 11-11-20|\n",
            "| 16-06-20|\n",
            "| 18-10-19|\n",
            "| 18-10-19|\n",
            "| 14-06-18|\n",
            "| 14-06-18|\n",
            "| 14-06-18|\n",
            "| 14-06-18|\n",
            "| 14-06-18|\n",
            "| 14-06-18|\n",
            "| 14-06-18|\n",
            "| 20-04-21|\n",
            "| 10-12-20|\n",
            "| 26-11-19|\n",
            "| 26-11-19|\n",
            "| 18-11-18|\n",
            "| 15-05-18|\n",
            "| 01-09-18|\n",
            "| 01-09-18|\n",
            "+---------+\n",
            "only showing top 20 rows\n",
            "\n"
          ]
        }
      ]
    },
    {
      "cell_type": "code",
      "source": [
        ""
      ],
      "metadata": {
        "id": "llELt1u-3cRw"
      },
      "execution_count": null,
      "outputs": []
    }
  ]
}